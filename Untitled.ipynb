{
 "cells": [
  {
   "cell_type": "code",
   "execution_count": 25,
   "id": "b230f54c-fefa-4a81-900e-db5d546127bb",
   "metadata": {},
   "outputs": [
    {
     "name": "stdin",
     "output_type": "stream",
     "text": [
      " 1\n"
     ]
    },
    {
     "name": "stdout",
     "output_type": "stream",
     "text": [
      "1 is a prime\n"
     ]
    }
   ],
   "source": [
    "def is_prime(n):\n",
    "    if n<2:\n",
    "        return False\n",
    "    for i in range(2,int(n**0.5)+1):\n",
    "        if n%i==0:\n",
    "            return False\n",
    "        return True\n",
    "num=int(input())\n",
    "if is_prime:\n",
    "    print(num,\"is a prime\")\n",
    "else:\n",
    "    print(num,\"is not a prime\")"
   ]
  },
  {
   "cell_type": "code",
   "execution_count": 35,
   "id": "6a7d6634-282d-4ff1-b61b-bc1604f7e5c0",
   "metadata": {},
   "outputs": [
    {
     "name": "stdout",
     "output_type": "stream",
     "text": [
      "17\n"
     ]
    }
   ],
   "source": [
    "def is_prime(n):\n",
    "    if n<2:\n",
    "        return False\n",
    "    for i in range(2,int(n**0.5)+1):\n",
    "        if n%i==0:\n",
    "            return False\n",
    "    return True\n",
    "def sum_of_primes(n):\n",
    "    return sum(num for num in range(2,n+1) if is_prime(num))\n",
    "print(sum_of_primes(10))"
   ]
  },
  {
   "cell_type": "code",
   "execution_count": 2,
   "id": "80a3f364-9ab7-4aab-a5ad-2dcefb565f8e",
   "metadata": {},
   "outputs": [
    {
     "name": "stdin",
     "output_type": "stream",
     "text": [
      "enter N: 2\n",
      "enter M: 4\n"
     ]
    },
    {
     "name": "stdout",
     "output_type": "stream",
     "text": [
      "sum of cubes: 99\n"
     ]
    }
   ],
   "source": [
    "#sum of cubes\n",
    "n=int(input(\"enter N:\"))\n",
    "m=int(input(\"enter M:\"))\n",
    "sum_cubes=sum(i**3 for i in range(n,m+1))\n",
    "print(\"sum of cubes:\",sum_cubes)"
   ]
  },
  {
   "cell_type": "code",
   "execution_count": 3,
   "id": "e31b691f-1691-4309-b5dd-3bf9926f6034",
   "metadata": {},
   "outputs": [
    {
     "name": "stdin",
     "output_type": "stream",
     "text": [
      "enter n: 10\n",
      "enter m: 20\n"
     ]
    },
    {
     "name": "stdout",
     "output_type": "stream",
     "text": [
      "sum of prime numbers from 10 to 20 is: 60\n"
     ]
    }
   ],
   "source": [
    "#sum of primes from 10 to 20\n",
    "def is_prime(n):\n",
    "    if n<2:\n",
    "        return False\n",
    "    for i in range(2,int(n**0.5)+1):\n",
    "        if n%i==0:\n",
    "            return False\n",
    "    return True\n",
    "n=int(input(\"enter n:\"))\n",
    "m=int(input(\"enter m:\"))\n",
    "sum_primes=sum(num for num in range(n,m+1) if is_prime(num))\n",
    "print(\"sum of prime numbers from\", n, \"to\", m, \"is:\", sum_primes)"
   ]
  },
  {
   "cell_type": "code",
   "execution_count": 5,
   "id": "ca42faf7-544b-42b0-95d2-c1ba71011f4f",
   "metadata": {},
   "outputs": [
    {
     "name": "stdout",
     "output_type": "stream",
     "text": [
      "yes\n"
     ]
    }
   ],
   "source": [
    "#check whether the given string is palindrome or not\n",
    "def is_palindrome(s):\n",
    "    return s==s[::-1]\n",
    "s=\"SOS\"\n",
    "p=is_palindrome(s)\n",
    "if p:\n",
    "    print('yes')\n",
    "else:\n",
    "    print('No')"
   ]
  },
  {
   "cell_type": "code",
   "execution_count": null,
   "id": "563fa9eb-82e8-4529-9e20-3b6ac06c6a9d",
   "metadata": {},
   "outputs": [],
   "source": []
  }
 ],
 "metadata": {
  "kernelspec": {
   "display_name": "Python 3 (ipykernel)",
   "language": "python",
   "name": "python3"
  },
  "language_info": {
   "codemirror_mode": {
    "name": "ipython",
    "version": 3
   },
   "file_extension": ".py",
   "mimetype": "text/x-python",
   "name": "python",
   "nbconvert_exporter": "python",
   "pygments_lexer": "ipython3",
   "version": "3.11.7"
  }
 },
 "nbformat": 4,
 "nbformat_minor": 5
}
